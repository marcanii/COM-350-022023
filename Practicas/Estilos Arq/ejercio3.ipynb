{
 "cells": [
  {
   "cell_type": "code",
   "execution_count": 4,
   "metadata": {},
   "outputs": [],
   "source": [
    "import csv\n",
    "from datetime import datetime\n",
    "\n",
    "def leer_csv(archivo):\n",
    "    with open(archivo, 'r') as file:\n",
    "        reader = csv.reader(file)\n",
    "        data = list(reader)\n",
    "    return data\n",
    "\n",
    "def filtrar_datos(datos):\n",
    "    datos_filtrados = []\n",
    "    for row in datos:\n",
    "        ci, nombre1, nombre2, paterno, materno, fecha = row\n",
    "        if not any(char.isdigit() for char in (nombre1 + nombre2 + paterno + materno)) and not any(char.isalpha() for char in ci):\n",
    "            datos_filtrados.append((ci, nombre1, nombre2, paterno, materno, fecha))\n",
    "    return datos_filtrados\n",
    "\n",
    "def unir_nombres(datos_filtrados):\n",
    "    datos_unidos = []\n",
    "    for ci, nombre1, nombre2, paterno, materno, fecha in datos_filtrados:\n",
    "        nombre_completo = f\"{nombre1} {nombre2} {paterno} {materno}\"\n",
    "        datos_unidos.append((ci, nombre_completo, fecha))\n",
    "    return datos_unidos\n",
    "\n",
    "def convertir_fecha(datos_unidos):\n",
    "    datos_final = []\n",
    "    for ci, nombre, fecha in datos_unidos:\n",
    "        fecha = datetime.strptime(fecha, '%d/%m/%Y')\n",
    "        fecha = fecha.strftime('%Y-%m-%d')\n",
    "        datos_final.append((ci, nombre, fecha))\n",
    "    return datos_final\n",
    "\n",
    "def escribir_csv(datos_final):\n",
    "    with open('datos_final.csv', 'w') as file:\n",
    "        writer = csv.writer(file)\n",
    "        writer.writerows(datos_final)"
   ]
  },
  {
   "cell_type": "code",
   "execution_count": 5,
   "metadata": {},
   "outputs": [
    {
     "data": {
      "text/plain": [
       "[['3836432TF', 'JUAN', 'LINO', 'LURICI', 'ROCA', '06/05/1959']]"
      ]
     },
     "execution_count": 5,
     "metadata": {},
     "output_type": "execute_result"
    }
   ],
   "source": [
    "archivo_csv = \"ciudadanos - ciudadanos.csv\"\n",
    "datos = leer_csv(archivo_csv)\n",
    "datos[2:3]"
   ]
  },
  {
   "cell_type": "code",
   "execution_count": 6,
   "metadata": {},
   "outputs": [
    {
     "data": {
      "text/plain": [
       "[('6115816', 'SUANY', '', 'ROA', 'SANGUINO', '25/09/1986')]"
      ]
     },
     "execution_count": 6,
     "metadata": {},
     "output_type": "execute_result"
    }
   ],
   "source": [
    "datos_filtrados = filtrar_datos(datos)\n",
    "datos_filtrados[2:3]"
   ]
  },
  {
   "cell_type": "code",
   "execution_count": 7,
   "metadata": {},
   "outputs": [
    {
     "data": {
      "text/plain": [
       "[('6115816', 'SUANY  ROA SANGUINO', '25/09/1986')]"
      ]
     },
     "execution_count": 7,
     "metadata": {},
     "output_type": "execute_result"
    }
   ],
   "source": [
    "nombres = unir_nombres(datos_filtrados)\n",
    "nombres[2:3]"
   ]
  },
  {
   "cell_type": "code",
   "execution_count": 8,
   "metadata": {},
   "outputs": [
    {
     "data": {
      "text/plain": [
       "[('6115816', 'SUANY  ROA SANGUINO', '1986-09-25')]"
      ]
     },
     "execution_count": 8,
     "metadata": {},
     "output_type": "execute_result"
    }
   ],
   "source": [
    "fecha = convertir_fecha(nombres)\n",
    "fecha[2:3]"
   ]
  },
  {
   "cell_type": "code",
   "execution_count": 9,
   "metadata": {},
   "outputs": [],
   "source": [
    "escribir_csv(fecha)"
   ]
  },
  {
   "cell_type": "code",
   "execution_count": 19,
   "metadata": {},
   "outputs": [],
   "source": [
    "import mysql.connector\n",
    "import csv\n",
    "\n",
    "def agregar_bd(ruta_csv):\n",
    "    try:\n",
    "        # Establece la conexión a la base de datos MySQL\n",
    "        conexion = mysql.connector.connect(\n",
    "            host=\"localhost\",\n",
    "            user=\"root\",\n",
    "            password=\"\",\n",
    "            database=\"bd_personas\"\n",
    "        )\n",
    "\n",
    "        # Crea un objeto cursor para ejecutar consultas SQL\n",
    "        cursor = conexion.cursor()\n",
    "        # Abrir el archivo CSV y leer los datos\n",
    "        with open(ruta_csv, 'r') as csv_file:\n",
    "            lector_csv = csv.reader(csv_file)\n",
    "            # Iterar a través de las filas en el archivo CSV y agregarlas a la base de datos\n",
    "            for fila in lector_csv:\n",
    "                ci, nombres, fecha = fila\n",
    "                # Consulta para insertar datos en la tabla de la base de datos\n",
    "                consulta = \"INSERT INTO ciudadano (ci, nombre, fecha) VALUES (%s, %s, %s)\"\n",
    "                valores = (ci, nombres, fecha)\n",
    "                # Ejecutar la consulta\n",
    "                cursor.execute(consulta, valores)\n",
    "\n",
    "        # Confirmar la transacción y cerrar la conexión\n",
    "        conexion.commit()\n",
    "        cursor.close()\n",
    "        conexion.close()\n",
    "        print(\"Datos agregados correctamente a la base de datos.\")\n",
    "    except Exception as error:\n",
    "        print(f\"Error al agregar datos a la base de datos: {error}\")"
   ]
  },
  {
   "cell_type": "code",
   "execution_count": 21,
   "metadata": {},
   "outputs": [
    {
     "name": "stdout",
     "output_type": "stream",
     "text": [
      "Datos agregados correctamente a la base de datos.\n"
     ]
    }
   ],
   "source": [
    "agregar_bd(\"datos_final.csv\")"
   ]
  }
 ],
 "metadata": {
  "kernelspec": {
   "display_name": "cuda_user",
   "language": "python",
   "name": "python3"
  },
  "language_info": {
   "codemirror_mode": {
    "name": "ipython",
    "version": 3
   },
   "file_extension": ".py",
   "mimetype": "text/x-python",
   "name": "python",
   "nbconvert_exporter": "python",
   "pygments_lexer": "ipython3",
   "version": "3.11.2"
  },
  "orig_nbformat": 4
 },
 "nbformat": 4,
 "nbformat_minor": 2
}
